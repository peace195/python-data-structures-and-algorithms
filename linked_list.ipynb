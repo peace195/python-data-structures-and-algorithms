{
 "cells": [
  {
   "cell_type": "markdown",
   "metadata": {
    "collapsed": true
   },
   "source": [
    "## Implement"
   ]
  },
  {
   "cell_type": "code",
   "execution_count": 27,
   "metadata": {
    "collapsed": false
   },
   "outputs": [
    {
     "name": "stdout",
     "output_type": "stream",
     "text": [
      "1\n",
      "2\n",
      "3\n"
     ]
    }
   ],
   "source": [
    "class node:\n",
    "    def __init__(self):\n",
    "        self.data = None # contains the data\n",
    "        self.next = None # contains the reference to the next node\n",
    "\n",
    "\n",
    "class linked_list:\n",
    "    def __init__(self):\n",
    "        self.head = None\n",
    "\n",
    "    def add_node(self, data):\n",
    "        new_node = node() # create a new node\n",
    "        new_node.data = data\n",
    "        if self.head == None:\n",
    "            self.head = new_node\n",
    "        else:\n",
    "            cur_node = self.head\n",
    "            while cur_node.next:\n",
    "                cur_node = cur_node.next\n",
    "            cur_node.next = new_node\n",
    "\n",
    "    def list_print(self):\n",
    "        cur_node = self.head\n",
    "        while cur_node:\n",
    "            print cur_node.data\n",
    "            cur_node = cur_node.next\n",
    "\n",
    "\n",
    "ll = linked_list()\n",
    "ll.add_node(1)\n",
    "ll.add_node(2)\n",
    "ll.add_node(3)\n",
    "\n",
    "ll.list_print()"
   ]
  },
  {
   "cell_type": "code",
   "execution_count": 46,
   "metadata": {
    "collapsed": false
   },
   "outputs": [
    {
     "name": "stdout",
     "output_type": "stream",
     "text": [
      "deque([1, 2, 7, 8, 3, 4, 9])\n"
     ]
    }
   ],
   "source": [
    "# Libraries\n",
    "# https://docs.python.org/2/library/collections.html#collections.deque\n",
    "from collections import deque\n",
    "d = deque([1, 2, 7, 8, 3, 3, 4, 9])\n",
    "d.remove(3) # remove the first occurence in deque\n",
    "print(d)"
   ]
  },
  {
   "cell_type": "markdown",
   "metadata": {},
   "source": [
    "## Problem solver"
   ]
  },
  {
   "cell_type": "code",
   "execution_count": null,
   "metadata": {
    "collapsed": true
   },
   "outputs": [],
   "source": []
  }
 ],
 "metadata": {
  "kernelspec": {
   "display_name": "Python 2",
   "language": "python",
   "name": "python2"
  },
  "language_info": {
   "codemirror_mode": {
    "name": "ipython",
    "version": 2
   },
   "file_extension": ".py",
   "mimetype": "text/x-python",
   "name": "python",
   "nbconvert_exporter": "python",
   "pygments_lexer": "ipython2",
   "version": "2.7.11"
  }
 },
 "nbformat": 4,
 "nbformat_minor": 0
}
