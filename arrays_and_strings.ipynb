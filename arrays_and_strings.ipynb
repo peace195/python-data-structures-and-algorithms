{
 "cells": [
  {
   "cell_type": "code",
   "execution_count": 22,
   "metadata": {
    "collapsed": true
   },
   "outputs": [],
   "source": [
    "import numpy as np\n",
    "import pandas as pd"
   ]
  },
  {
   "cell_type": "markdown",
   "metadata": {},
   "source": [
    "## Arrays and Strings"
   ]
  },
  {
   "cell_type": "code",
   "execution_count": 19,
   "metadata": {
    "collapsed": false
   },
   "outputs": [
    {
     "name": "stdout",
     "output_type": "stream",
     "text": [
      "[] is better than list()\n",
      "https://stackoverflow.com/questions/5790860/and-vs-list-and-dict-which-is-better\n"
     ]
    }
   ],
   "source": [
    "a = []\n",
    "a = list()\n",
    "print(\"[] is better than list()\")\n",
    "print(\"https://stackoverflow.com/questions/5790860/and-vs-list-and-dict-which-is-better\")"
   ]
  },
  {
   "cell_type": "code",
   "execution_count": 17,
   "metadata": {
    "collapsed": false
   },
   "outputs": [
    {
     "name": "stdout",
     "output_type": "stream",
     "text": [
      "You should use \" for string in stead of '\n"
     ]
    }
   ],
   "source": [
    "s = 'Hello world!'\n",
    "s = \"Hello world!\"\n",
    "print(\"You should use \\\" for string in stead of '\")"
   ]
  },
  {
   "cell_type": "markdown",
   "metadata": {},
   "source": [
    "## Regex"
   ]
  },
  {
   "cell_type": "code",
   "execution_count": null,
   "metadata": {
    "collapsed": true
   },
   "outputs": [],
   "source": []
  },
  {
   "cell_type": "markdown",
   "metadata": {},
   "source": [
    "## Problem solver"
   ]
  },
  {
   "cell_type": "markdown",
   "metadata": {},
   "source": [
    "**Is Unique**: Implement an algorithm to determine if a string has all unique characters.\n",
    "What if you cannot use additional data structures?"
   ]
  },
  {
   "cell_type": "code",
   "execution_count": 35,
   "metadata": {
    "collapsed": false
   },
   "outputs": [
    {
     "data": {
      "text/plain": [
       "True"
      ]
     },
     "execution_count": 35,
     "metadata": {},
     "output_type": "execute_result"
    }
   ],
   "source": [
    "# Using hash map\n",
    "def is_unique(s):\n",
    "    char_dict = {}\n",
    "    for c in s:\n",
    "        if c in char_dict:\n",
    "            char_dict[c] = char_dict[c] + 1\n",
    "        else:\n",
    "            char_dict[c] = 0\n",
    "    \n",
    "    if np.sum(char_dict.values()) > 0:\n",
    "        return False\n",
    "    \n",
    "    return True\n",
    "    \n",
    "s = \"Is Unique\"\n",
    "is_unique(s)\n",
    "\n",
    "# Time complexity O(n)\n",
    "# Space complexity O(n)\n",
    "# https://wiki.python.org/moin/TimeComplexity"
   ]
  },
  {
   "cell_type": "code",
   "execution_count": 42,
   "metadata": {
    "collapsed": false
   },
   "outputs": [
    {
     "data": {
      "text/plain": [
       "True"
      ]
     },
     "execution_count": 42,
     "metadata": {},
     "output_type": "execute_result"
    }
   ],
   "source": [
    "# Not using additional data structures\n",
    "def is_unique(s):\n",
    "    sorted_char = sorted(s)\n",
    "    for i in range(len(s) - 1):\n",
    "        if sorted_char[i] == sorted_char[i + 1]:\n",
    "            return False\n",
    "    return True\n",
    "    \n",
    "s = \"Is Unique\"\n",
    "is_unique(s)\n",
    "\n",
    "# Time complexity O(nlogn)\n",
    "# Space complexity O(n)"
   ]
  },
  {
   "cell_type": "code",
   "execution_count": 5,
   "metadata": {
    "collapsed": false
   },
   "outputs": [
    {
     "data": {
      "text/plain": [
       "True"
      ]
     },
     "execution_count": 5,
     "metadata": {},
     "output_type": "execute_result"
    }
   ],
   "source": [
    "# Not using additional data structures\n",
    "# Optimize\n",
    "def is_unique(s):\n",
    "    bit_mask = [0] * 1000\n",
    "    for c in s:\n",
    "        bit_mask[ord(c)] = bit_mask[ord(c)] + 1\n",
    "        if (bit_mask[ord(c)] > 1):\n",
    "            return False\n",
    "    return True\n",
    "    \n",
    "s = \"Is Unique\"\n",
    "is_unique(s)\n",
    "\n",
    "# Time complexity O(n)\n",
    "# Space complexity O(m)"
   ]
  },
  {
   "cell_type": "markdown",
   "metadata": {},
   "source": [
    "**Palindrome Permutation**: Given a string, write a function to check if it is a permutation of a palindrome. A palindrome is a word or phrase that is the same forwards and backwards. A permutation is a rearrangement of letters.The palindrome does not need to be limited to just dictionary words.\n",
    "\n",
    "    EXAMPLE\n",
    "    Input: Tact Coa\n",
    "    Output: True (permutations: \"taco cat\". \"atco cta\". etc.)"
   ]
  },
  {
   "cell_type": "code",
   "execution_count": 47,
   "metadata": {
    "collapsed": false
   },
   "outputs": [
    {
     "data": {
      "text/plain": [
       "True"
      ]
     },
     "execution_count": 47,
     "metadata": {},
     "output_type": "execute_result"
    }
   ],
   "source": [
    "def palindrome_permutation(s):\n",
    "    s = s.lower().replace(\" \", \"\")\n",
    "    char_dict = {}\n",
    "    for c in s:\n",
    "        if c in char_dict:\n",
    "            char_dict[c] = char_dict[c] + 1\n",
    "        else:\n",
    "            char_dict[c] = 1\n",
    "    \n",
    "    count_odd_char = 0\n",
    "    \n",
    "    for value in char_dict.values():\n",
    "        if value % 2 == 1:\n",
    "            count_odd_char = count_odd_char + 1\n",
    "            \n",
    "    if count_odd_char > 1:\n",
    "        return False\n",
    "    else:\n",
    "        return True\n",
    "\n",
    "s = \"Tact Coa\"\n",
    "palindrome_permutation(s)\n",
    "\n",
    "# Time complexity O(n)"
   ]
  }
 ],
 "metadata": {
  "kernelspec": {
   "display_name": "Python 2",
   "language": "python",
   "name": "python2"
  },
  "language_info": {
   "codemirror_mode": {
    "name": "ipython",
    "version": 2
   },
   "file_extension": ".py",
   "mimetype": "text/x-python",
   "name": "python",
   "nbconvert_exporter": "python",
   "pygments_lexer": "ipython2",
   "version": "2.7.11"
  }
 },
 "nbformat": 4,
 "nbformat_minor": 0
}
